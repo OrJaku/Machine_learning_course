{
 "cells": [
  {
   "cell_type": "code",
   "execution_count": 1,
   "metadata": {},
   "outputs": [],
   "source": [
    "import pandas as pd\n",
    "import numpy as np\n",
    "np.random.seed(0)\n",
    "\n",
    "#from sklearn.metrics import mean_absolute_error as mae\n",
    "from sklearn.model_selection import KFold\n",
    "from sklearn.tree import DecisionTreeRegressor\n",
    "from sklearn.ensemble import RandomForestRegressor, ExtraTreesRegressor\n",
    "from sklearn.model_selection import learning_curve\n",
    "\n",
    "from ml_metrics import rmsle, mae\n",
    "\n",
    "import xgboost as xgb\n",
    "import gc\n",
    "\n",
    "from sklearn.dummy import DummyRegressor\n",
    "\n",
    "import matplotlib.pyplot as plt\n",
    "import seaborn as sns\n",
    "import scikitplot as skplt\n",
    "\n",
    "import sys\n",
    "import re"
   ]
  },
  {
   "cell_type": "code",
   "execution_count": 2,
   "metadata": {},
   "outputs": [],
   "source": [
    "train = pd.read_hdf('../input/train.car_price.h5')\n",
    "test = pd.read_hdf('../input/test.car_price.h5') #zbiór testowy bez odpowiedzi"
   ]
  },
  {
   "cell_type": "code",
   "execution_count": 3,
   "metadata": {},
   "outputs": [],
   "source": [
    "def num_filter(val):\n",
    "    return re.sub('[^0-9]','', str(val))\n",
    "\n",
    "retuce_entries_param =  99.9\n",
    "\n",
    "df_all = pd.concat([train, test])\n",
    "del train, test\n",
    "gc.collect()\n",
    "\n",
    "obj_feats = list(df_all.select_dtypes(np.object).columns)\n",
    "obj_feats = [x for x in obj_feats if x.startswith('param') or x.startswith('seller')]\n",
    "\n",
    "for feat in obj_feats:\n",
    "    df_all[\"{}_cat\".format(feat)] = df_all[feat].factorize()[0]"
   ]
  },
  {
   "cell_type": "code",
   "execution_count": 4,
   "metadata": {},
   "outputs": [],
   "source": [
    "df_all[\"param_miesięczna-rata_cat\"] = df_all[\"param_miesięczna-rata\"].fillna(-1)\n",
    "df_all[\"param_miesięczna-rata_cat\"] = df_all[\"param_miesięczna-rata_cat\"].map(lambda x: x.replace(\",\", \".\") if x!=-1 else x)\n",
    "df_all[\"param_miesięczna-rata_cat\"] = df_all[\"param_miesięczna-rata_cat\"].map(lambda x: float(x[:-4].replace(\" \", \"\")) if x!=-1 else x)\n",
    "#df_all[\"param_miesięczna-rata_cat\"].unique()"
   ]
  },
  {
   "cell_type": "code",
   "execution_count": 317,
   "metadata": {},
   "outputs": [],
   "source": [
    "# df_all[\"param_wartość-wykupu_cat\"] = df_all[\"param_wartość-wykupu\"].fillna(-1)\n",
    "# df_all[\"param_wartość-wykupu_cat\"] = df_all[\"param_wartość-wykupu_cat\"].map(lambda x: x.replace(\",\", \".\") if x!=-1 else x)\n",
    "\n",
    "# df_all[\"param_wartość-wykupu_cat\"] = df_all[\"param_wartość-wykupu_cat\"].map(lambda x: float(x[:-4].replace(\" \", \"\")) if x!=-1 else x)\n",
    "# #df_all[\"param_wartość-wykupu_cat\"].unique()\n",
    "\n",
    "# df_all[\"param_pojemność-skokowa_cat\"] = df_all[\"param_pojemność-skokowa\"].fillna(-1)\n",
    "# df_all[\"param_pojemność-skokowa_cat\"] = df_all[\"param_pojemność-skokowa_cat\"].map(lambda x: float(x[:-4].replace(\" \", \"\")) if x!=-1 else x)\n",
    "# df_all[\"param_pojemność-skokowa_cat\"].unique()\n",
    "\n",
    "# df_all[\"param_moc_cat\"] = df_all[\"param_moc\"].fillna(-1)\n",
    "# df_all[\"param_moc_cat\"] = df_all[\"param_moc_cat\"].map(lambda x: int(x[:-3].replace(\" \", \"\")) if x!=-1 else x)\n",
    "\n",
    "# #df_all[\"param_moc_cat\"].unique()\n",
    "#df_all[\"param_airbags_norm\"] = np.where((df_all['feature_poduszka-powietrzna-chroniąca-kolana'] == 1) & (df_all['feature_poduszka-powietrzna-pasażera'] == 1) & (df_all['feature_poduszki-boczne-przednie'] == 1) & (df_all['feature_poduszki-boczne-tylne'] == 1), 1, 0)"
   ]
  },
  {
   "cell_type": "code",
   "execution_count": 5,
   "metadata": {},
   "outputs": [
    {
     "data": {
      "text/plain": [
       "array([     1, 209533,  30500, ...,  15894, 212091, 227560])"
      ]
     },
     "execution_count": 5,
     "metadata": {},
     "output_type": "execute_result"
    }
   ],
   "source": [
    "df_all[\"param_przebieg_cat\"] = df_all[\"param_przebieg\"].fillna(-1)\n",
    "df_all[\"param_przebieg_cat\"] = df_all[\"param_przebieg_cat\"].map(lambda x: int(x[:-3].replace(\" \", \"\")) if x!=-1 else x)\n",
    "df_all[\"param_przebieg_cat\"].unique()"
   ]
  },
  {
   "cell_type": "code",
   "execution_count": 6,
   "metadata": {},
   "outputs": [],
   "source": [
    "df_all[\"param_rok-produkcji_cat\"] = df_all[\"param_rok-produkcji\"].fillna(-1)\n",
    "df_all['param_rok-produkcji_cat'] = df_all['param_rok-produkcji_cat'].astype(np.int)    "
   ]
  },
  {
   "cell_type": "code",
   "execution_count": 7,
   "metadata": {},
   "outputs": [],
   "source": [
    "df_all[\"param_moc_norm_new\"] = df_all[\"param_moc\"].fillna(-1)\n",
    "df_all[\"param_pojemność-skokowa_norm_new\"] = df_all[\"param_pojemność-skokowa\"].fillna(-1)\n",
    "\n",
    "df_all['param_moc_norm_new'] = np.log( df_all['param_moc_norm_new'].map(num_filter).astype(np.int) )\n",
    "df_all['param_pojemność-skokowa_norm_new'] = np.log( df_all['param_pojemność-skokowa_norm_new'].map(num_filter).astype(np.int) )"
   ]
  },
  {
   "cell_type": "code",
   "execution_count": 8,
   "metadata": {},
   "outputs": [
    {
     "name": "stdout",
     "output_type": "stream",
     "text": [
      "Feats number: 126\n"
     ]
    }
   ],
   "source": [
    "black_list = ['car_id', 'price_details', 'price_value']\n",
    "del_list = [\n",
    "            'feature_radio-niefabryczne',\n",
    "            'feature_alarm',\n",
    "            'feature_klimatyzacja-czterostrefowa',\n",
    "            'feature_klimatyzacja-dwustrefowa',\n",
    "            'feature_klimatyzacja-manualna',\n",
    "            'feature_isofix',\n",
    "            'feature_tapicerka-welurowa',  \n",
    "            \"param_vin_cat\", \n",
    "            \"seller_address_cat\", \n",
    "            \"seller_name_cat\", \n",
    "            \"param_year_cat\",\n",
    "            \"param_co2-emissions_cat\",\n",
    "            \"param_engine-power_cat\",\n",
    "            \"param_first-registration_cat\",\n",
    "            \"param_make_cat\",\n",
    "            \"param_fuel-type_cat\",\n",
    "            \"param_monthly-payment-value_cat\",\n",
    "            \"param_mileage_cat\",\n",
    "            \"param_wartość-wykupu_cat\",\n",
    "            \"param_vat-discount_cat\",\n",
    "            \"param_service-record_cat\",\n",
    "            \"param_registered-in-poland_cat\",\n",
    "            \"param_original-owner_cat\",\n",
    "            \"seller_type_cat\",\n",
    "            \"param_model_cat\",   \n",
    "           ]\n",
    "\n",
    "remove_from_feats_list = black_list + del_list\n",
    "feats = df_all.select_dtypes(include=[np.number, np.bool]).columns\n",
    "feats = [x for x in feats if x not in remove_from_feats_list]\n",
    "print(\"Feats number:\", len(feats) )\n"
   ]
  },
  {
   "cell_type": "code",
   "execution_count": 9,
   "metadata": {},
   "outputs": [
    {
     "data": {
      "text/plain": [
       "(106387, 236)"
      ]
     },
     "execution_count": 9,
     "metadata": {},
     "output_type": "execute_result"
    }
   ],
   "source": [
    "train = df_all[ ~df_all.price_value.isnull() ].copy()\n",
    "if train.price_value.max() == 799900:\n",
    "    train = train[train.price_value < np.percentile( train.price_value, retuce_entries_param )]\n",
    "else:\n",
    "    pass\n",
    "test = df_all[ df_all.price_value.isnull() ].copy()\n",
    "#del df_all\n",
    "gc.collect()\n",
    "train.shape"
   ]
  },
  {
   "cell_type": "code",
   "execution_count": 323,
   "metadata": {},
   "outputs": [],
   "source": [
    "# del train[\"price_value_pred\"]\n",
    "# del train[\"pred_diff_abs\"]\n",
    "# del train[\"pred_diff_percent\"]\n",
    "# del train[\"pred_diff\"]"
   ]
  },
  {
   "cell_type": "code",
   "execution_count": 324,
   "metadata": {},
   "outputs": [
    {
     "data": {
      "text/plain": [
       "(106387, 236)"
      ]
     },
     "execution_count": 324,
     "metadata": {},
     "output_type": "execute_result"
    }
   ],
   "source": [
    "train.shape"
   ]
  },
  {
   "cell_type": "code",
   "execution_count": 10,
   "metadata": {},
   "outputs": [],
   "source": [
    "train[\"param_pojemność-skokowa_cat\"] = train[\"param_pojemność-skokowa_cat\"].map(lambda x: -1 if x>15000 else x)\n",
    "train[\"param_moc_cat\"] = train[\"param_moc_cat\"].map(lambda x: -1 if x>11000 else x)\n",
    "train = train[ train[\"price_currency\"] == \"PLN\" ]"
   ]
  },
  {
   "cell_type": "code",
   "execution_count": 32,
   "metadata": {},
   "outputs": [
    {
     "ename": "TypeError",
     "evalue": "'Series' object is not callable",
     "output_type": "error",
     "traceback": [
      "\u001b[0;31m---------------------------------------------------------------------------\u001b[0m",
      "\u001b[0;31mTypeError\u001b[0m                                 Traceback (most recent call last)",
      "\u001b[0;32m<ipython-input-32-c31b7d1f5f1f>\u001b[0m in \u001b[0;36m<module>\u001b[0;34m\u001b[0m\n\u001b[0;32m----> 1\u001b[0;31m \u001b[0mvalue_counts_row\u001b[0m \u001b[0;34m=\u001b[0m \u001b[0mtrain\u001b[0m\u001b[0;34m[\u001b[0m\u001b[0;34m'param_marka-pojazdu'\u001b[0m\u001b[0;34m]\u001b[0m\u001b[0;34m(\u001b[0m\u001b[0;32mlambda\u001b[0m \u001b[0mx\u001b[0m\u001b[0;34m:\u001b[0m \u001b[0mx\u001b[0m\u001b[0;34m.\u001b[0m\u001b[0mvalue_counts\u001b[0m\u001b[0;34m(\u001b[0m\u001b[0;34m)\u001b[0m\u001b[0;34m)\u001b[0m\u001b[0;34m\u001b[0m\u001b[0;34m\u001b[0m\u001b[0m\n\u001b[0m",
      "\u001b[0;31mTypeError\u001b[0m: 'Series' object is not callable"
     ]
    }
   ],
   "source": [
    "value_counts_row = train['param_marka-pojazdu'](lambda x: x.value_counts())\n"
   ]
  },
  {
   "cell_type": "code",
   "execution_count": 11,
   "metadata": {},
   "outputs": [
    {
     "data": {
      "text/plain": [
       "<matplotlib.axes._subplots.AxesSubplot at 0x7f9d3fdb4d50>"
      ]
     },
     "execution_count": 11,
     "metadata": {},
     "output_type": "execute_result"
    },
    {
     "data": {
      "image/png": "[encoded data removed]",
      "text/plain": [
       "<Figure size 432x288 with 1 Axes>"
      ]
     },
     "metadata": {
      "needs_background": "light"
     },
     "output_type": "display_data"
    }
   ],
   "source": [
    "train[\"param_pojemność-skokowa_cat\"].hist(bins=200)"
   ]
  },
  {
   "cell_type": "code",
   "execution_count": 12,
   "metadata": {},
   "outputs": [],
   "source": [
    "# rate_d = []\n",
    "# rate_x = []"
   ]
  },
  {
   "cell_type": "code",
   "execution_count": 13,
   "metadata": {},
   "outputs": [],
   "source": [
    "def run_cv(model, X, y, folds=None, target_log=False,cv_type=KFold, success_metric=mae):\n",
    "    cv = cv_type(n_splits=folds)\n",
    "    price_value_pred = {}\n",
    "    scores = []\n",
    "    for train_idx, test_idx in cv.split(X):\n",
    "        X_train, X_test = X[train_idx], X[test_idx]\n",
    "        y_train, y_test = y[train_idx], y[test_idx]\n",
    "\n",
    "        if target_log:\n",
    "            y_train = np.log(y_train)\n",
    "\n",
    "        model.fit(X_train, y_train)\n",
    "        y_pred = model.predict(X_test)\n",
    "        \n",
    "        if target_log:\n",
    "            y_pred = np.exp(y_pred)\n",
    "            y_pred[y_pred < 0] = 0 #czasem może być wartość ujemna\n",
    "\n",
    "        score = success_metric(y_test, y_pred)\n",
    "        scores.append( score )        \n",
    "        price_value_pred.update( dict(zip(list(test_idx), list(y_pred))) )\n",
    "        \n",
    "    train['price_value_pred'] = train.index.map(price_value_pred)       \n",
    "        \n",
    "    return np.mean(scores), np.std(scores)\n",
    "\n",
    "\n",
    "def plot_learning_curve(model, title, X, y, ylim=None, cv=None,\n",
    "                        n_jobs=1, train_sizes=np.linspace(.1, 1.0, 5), target_log=False):\n",
    "    \n",
    "    plt.figure(figsize=(8,6))\n",
    "    plt.title(title)\n",
    "    if ylim is not None:plt.ylim(*ylim)\n",
    "\n",
    "    plt.xlabel(\"Training examples\")\n",
    "    plt.ylabel(\"Score\")\n",
    "    \n",
    "    if target_log:\n",
    "        y = np.log(y)\n",
    "    \n",
    "    def my_scorer(model, X, y):\n",
    "        y_pred = model.predict(X)\n",
    "        \n",
    "        if target_log:\n",
    "            y = np.exp(y)\n",
    "            y_pred = np.exp(y_pred)\n",
    "            y_pred[ y_pred<0 ] = 0\n",
    "        \n",
    "        return rmsle(y, y_pred)\n",
    "\n",
    "        \n",
    "    train_sizes, train_scores, test_scores = learning_curve(\n",
    "        model, X, y, cv=cv, n_jobs=n_jobs, train_sizes=train_sizes, scoring=my_scorer)\n",
    "    train_scores_mean = np.mean(train_scores, axis=1)\n",
    "    train_scores_std = np.std(train_scores, axis=1)\n",
    "    test_scores_mean = np.mean(test_scores, axis=1)\n",
    "    test_scores_std = np.std(test_scores, axis=1)\n",
    "    plt.grid()\n",
    "\n",
    "    plt.fill_between(train_sizes, train_scores_mean - train_scores_std,\n",
    "                     train_scores_mean + train_scores_std, alpha=0.1,\n",
    "                     color=\"r\")\n",
    "    plt.fill_between(train_sizes, test_scores_mean - test_scores_std,\n",
    "                     test_scores_mean + test_scores_std, alpha=0.1, color=\"g\")\n",
    "    plt.plot(train_sizes, train_scores_mean, 'o-', color=\"r\",\n",
    "             label=\"Training score\")\n",
    "    plt.plot(train_sizes, test_scores_mean, 'o-', color=\"g\",\n",
    "             label=\"Cross-validation score\")\n",
    "\n",
    "    plt.legend(loc=\"best\")\n",
    "    return plt\n",
    "\n"
   ]
  },
  {
   "cell_type": "code",
   "execution_count": 14,
   "metadata": {},
   "outputs": [],
   "source": [
    "def run(train, plot_lc=True, plot_imp=True, folds=7, ylim=(0, 2), target_log=True, feats=feats):\n",
    "    feats = [x for x in feats if x not in remove_from_feats_list]\n",
    "    X = train[feats].values\n",
    "    y = train[\"price_value\"].values\n",
    "    X_test_out = test[feats].values\n",
    "    \n",
    "\n",
    "    for model_name, model in get_models():\n",
    "        score_mean, score_std = run_cv(model, X, y, folds=folds, target_log=target_log)\n",
    "        out_info = \"[{0}]: {1} +/-{2}\".format(model_name, score_mean, score_std)\n",
    "        print(out_info)\n",
    "        if model_name == \"XGB\":\n",
    "            rate_x.append(out_info)\n",
    "        else:\n",
    "            rate_d.append(out_info)\n",
    "        sys.stdout.flush() \n",
    "\n",
    "        if True == plot_lc:\n",
    "            plt = plot_learning_curve(model, model_name, X, y, ylim=ylim, cv=folds, target_log=target_log)\n",
    "            plt.show()\n",
    "        \n",
    "        if True == plot_imp:\n",
    "            skplt.estimators.plot_feature_importances(model, feature_names=feats, x_tick_rotation=90, figsize=(8, 5));\n",
    "    return model"
   ]
  },
  {
   "cell_type": "code",
   "execution_count": 15,
   "metadata": {},
   "outputs": [
    {
     "name": "stdout",
     "output_type": "stream",
     "text": [
      "[Decision Tree]: 11035.13239659174 +/-140.3070666474321\n"
     ]
    },
    {
     "data": {
      "text/plain": [
       "['[Decision Tree]: 11035.13239659174 +/-140.3070666474321']"
      ]
     },
     "execution_count": 15,
     "metadata": {},
     "output_type": "execute_result"
    }
   ],
   "source": [
    "def get_models():\n",
    "    return [\n",
    "        ('Decision Tree', DecisionTreeRegressor(    \n",
    "                                max_depth=8, \n",
    "                                random_state=0, \n",
    "                                )\n",
    "                            )\n",
    "    ]\n",
    "score_dec_tree = run(train, plot_lc=False, plot_imp=False)\n",
    "if len(rate_d) > 10:\n",
    "    del rate_d[0]  \n",
    "else:\n",
    "    pass\n",
    "rate_d"
   ]
  },
  {
   "cell_type": "code",
   "execution_count": 16,
   "metadata": {},
   "outputs": [
    {
     "name": "stdout",
     "output_type": "stream",
     "text": [
      "[XGB]: 5759.488983574311 +/-86.51786267103378\n"
     ]
    },
    {
     "data": {
      "text/plain": [
       "['[XGB]: 5759.488983574311 +/-86.51786267103378']"
      ]
     },
     "execution_count": 16,
     "metadata": {},
     "output_type": "execute_result"
    }
   ],
   "source": [
    "def get_models():\n",
    "    return [\n",
    "        ('XGB', xgb.XGBRegressor(    \n",
    "                                max_depth=11, \n",
    "                                n_estimators=1000, \n",
    "                                learning_rate=0.1, \n",
    "                                subsample=0.8, \n",
    "                                colsample_bytree=0.9,\n",
    "                                )\n",
    "                            )\n",
    "    ]\n",
    "score = run(train, plot_lc=False, plot_imp=False)\n",
    "if len(rate_x) > 10:\n",
    "    del rate_x[0]  \n",
    "else:\n",
    "    pass\n",
    "rate_x"
   ]
  },
  {
   "cell_type": "code",
   "execution_count": 86,
   "metadata": {},
   "outputs": [
    {
     "data": {
      "text/plain": [
       "(106387, 237)"
      ]
     },
     "execution_count": 86,
     "metadata": {},
     "output_type": "execute_result"
    }
   ],
   "source": [
    "train.shape"
   ]
  },
  {
   "cell_type": "code",
   "execution_count": 258,
   "metadata": {},
   "outputs": [
    {
     "data": {
      "text/html": [
       "<div>\n",
       "<style scoped>\n",
       "    .dataframe tbody tr th:only-of-type {\n",
       "        vertical-align: middle;\n",
       "    }\n",
       "\n",
       "    .dataframe tbody tr th {\n",
       "        vertical-align: top;\n",
       "    }\n",
       "\n",
       "    .dataframe thead th {\n",
       "        text-align: right;\n",
       "    }\n",
       "</style>\n",
       "<table border=\"1\" class=\"dataframe\">\n",
       "  <thead>\n",
       "    <tr style=\"text-align: right;\">\n",
       "      <th></th>\n",
       "      <th>car_id</th>\n",
       "      <th>price_value</th>\n",
       "      <th>price_value_pred</th>\n",
       "      <th>pred_diff_abs</th>\n",
       "      <th>pred_diff_percent</th>\n",
       "    </tr>\n",
       "  </thead>\n",
       "  <tbody>\n",
       "    <tr>\n",
       "      <th>22225</th>\n",
       "      <td>22225</td>\n",
       "      <td>1100.0</td>\n",
       "      <td>464201.843750</td>\n",
       "      <td>463101.843750</td>\n",
       "      <td>0.002375</td>\n",
       "    </tr>\n",
       "    <tr>\n",
       "      <th>83865</th>\n",
       "      <td>83865</td>\n",
       "      <td>999.0</td>\n",
       "      <td>353810.562500</td>\n",
       "      <td>352811.562500</td>\n",
       "      <td>0.002832</td>\n",
       "    </tr>\n",
       "    <tr>\n",
       "      <th>81532</th>\n",
       "      <td>81532</td>\n",
       "      <td>800.0</td>\n",
       "      <td>225768.359375</td>\n",
       "      <td>224968.359375</td>\n",
       "      <td>0.003556</td>\n",
       "    </tr>\n",
       "    <tr>\n",
       "      <th>81346</th>\n",
       "      <td>81346</td>\n",
       "      <td>1500.0</td>\n",
       "      <td>399531.687500</td>\n",
       "      <td>398031.687500</td>\n",
       "      <td>0.003769</td>\n",
       "    </tr>\n",
       "    <tr>\n",
       "      <th>33943</th>\n",
       "      <td>33943</td>\n",
       "      <td>1600.0</td>\n",
       "      <td>357366.500000</td>\n",
       "      <td>355766.500000</td>\n",
       "      <td>0.004497</td>\n",
       "    </tr>\n",
       "    <tr>\n",
       "      <th>...</th>\n",
       "      <td>...</td>\n",
       "      <td>...</td>\n",
       "      <td>...</td>\n",
       "      <td>...</td>\n",
       "      <td>...</td>\n",
       "    </tr>\n",
       "    <tr>\n",
       "      <th>160609</th>\n",
       "      <td>160609</td>\n",
       "      <td>17900.0</td>\n",
       "      <td>NaN</td>\n",
       "      <td>NaN</td>\n",
       "      <td>NaN</td>\n",
       "    </tr>\n",
       "    <tr>\n",
       "      <th>160610</th>\n",
       "      <td>160610</td>\n",
       "      <td>22700.0</td>\n",
       "      <td>NaN</td>\n",
       "      <td>NaN</td>\n",
       "      <td>NaN</td>\n",
       "    </tr>\n",
       "    <tr>\n",
       "      <th>160611</th>\n",
       "      <td>160611</td>\n",
       "      <td>15500.0</td>\n",
       "      <td>NaN</td>\n",
       "      <td>NaN</td>\n",
       "      <td>NaN</td>\n",
       "    </tr>\n",
       "    <tr>\n",
       "      <th>160614</th>\n",
       "      <td>160614</td>\n",
       "      <td>6490.0</td>\n",
       "      <td>NaN</td>\n",
       "      <td>NaN</td>\n",
       "      <td>NaN</td>\n",
       "    </tr>\n",
       "    <tr>\n",
       "      <th>160615</th>\n",
       "      <td>160615</td>\n",
       "      <td>11300.0</td>\n",
       "      <td>NaN</td>\n",
       "      <td>NaN</td>\n",
       "      <td>NaN</td>\n",
       "    </tr>\n",
       "  </tbody>\n",
       "</table>\n",
       "<p>106387 rows × 5 columns</p>\n",
       "</div>"
      ],
      "text/plain": [
       "        car_id  price_value  price_value_pred  pred_diff_abs  \\\n",
       "22225    22225       1100.0     464201.843750  463101.843750   \n",
       "83865    83865        999.0     353810.562500  352811.562500   \n",
       "81532    81532        800.0     225768.359375  224968.359375   \n",
       "81346    81346       1500.0     399531.687500  398031.687500   \n",
       "33943    33943       1600.0     357366.500000  355766.500000   \n",
       "...        ...          ...               ...            ...   \n",
       "160609  160609      17900.0               NaN            NaN   \n",
       "160610  160610      22700.0               NaN            NaN   \n",
       "160611  160611      15500.0               NaN            NaN   \n",
       "160614  160614       6490.0               NaN            NaN   \n",
       "160615  160615      11300.0               NaN            NaN   \n",
       "\n",
       "        pred_diff_percent  \n",
       "22225            0.002375  \n",
       "83865            0.002832  \n",
       "81532            0.003556  \n",
       "81346            0.003769  \n",
       "33943            0.004497  \n",
       "...                   ...  \n",
       "160609                NaN  \n",
       "160610                NaN  \n",
       "160611                NaN  \n",
       "160614                NaN  \n",
       "160615                NaN  \n",
       "\n",
       "[106387 rows x 5 columns]"
      ]
     },
     "execution_count": 258,
     "metadata": {},
     "output_type": "execute_result"
    }
   ],
   "source": [
    "train['pred_diff'] = train['price_value'] - train['price_value_pred']\n",
    "train['pred_diff_abs'] = train['pred_diff'].abs()\n",
    "train['pred_diff_percent'] =  (train[\"price_value\"]/ train['pred_diff_abs'])\n",
    "train[ ['car_id', 'price_value', 'price_value_pred', 'pred_diff_abs', 'pred_diff_percent'] ].sort_values(by='pred_diff_percent', ascending=True)\n"
   ]
  },
  {
   "cell_type": "code",
   "execution_count": 25,
   "metadata": {},
   "outputs": [
    {
     "data": {
      "text/plain": [
       "8301"
      ]
     },
     "execution_count": 25,
     "metadata": {},
     "output_type": "execute_result"
    }
   ],
   "source": [
    "train[\"param_marka-pojazdu\"].value_counts()[\"BMW\"]"
   ]
  },
  {
   "cell_type": "code",
   "execution_count": 21,
   "metadata": {},
   "outputs": [
    {
     "data": {
      "image/png": "[encoded data removed]",
      "text/plain": [
       "<Figure size 1440x360 with 1 Axes>"
      ]
     },
     "metadata": {
      "needs_background": "light"
     },
     "output_type": "display_data"
    }
   ],
   "source": [
    "plt.figure(figsize=(20, 5))\n",
    "sns.barplot(x=\"param_marka-pojazdu\", y=\"price_value\", data=train)\n",
    "plt.xticks(rotation=60);"
   ]
  },
  {
   "cell_type": "code",
   "execution_count": 359,
   "metadata": {},
   "outputs": [
    {
     "data": {
      "text/plain": [
       "array([ 6062.676, 69809.5  , 11519.496, ...,  8751.093, 21008.984,\n",
       "       47254.027], dtype=float32)"
      ]
     },
     "execution_count": 359,
     "metadata": {},
     "output_type": "execute_result"
    }
   ],
   "source": [
    "X_test_out = test[feats].values\n",
    "model_out = score\n",
    "test_out = model_out.predict(X_test_out)\n",
    "test_out = np.exp(test_out)\n",
    "test_out"
   ]
  },
  {
   "cell_type": "code",
   "execution_count": 718,
   "metadata": {},
   "outputs": [
    {
     "data": {
      "text/plain": [
       "Sedan            17\n",
       "Kombi            17\n",
       "Minivan          13\n",
       "Kompakt          13\n",
       "SUV              10\n",
       "Auta miejskie     9\n",
       "Coupe             2\n",
       "Kabriolet         1\n",
       "Auta małe         1\n",
       "Name: param_body-type, dtype: int64"
      ]
     },
     "execution_count": 718,
     "metadata": {},
     "output_type": "execute_result"
    }
   ],
   "source": [
    "train['param_body-type'].value_counts()\n",
    "# train[\"param_fuel-type\"].value_counts()\n",
    "# train.price_value.max()\n"
   ]
  },
  {
   "cell_type": "code",
   "execution_count": 79,
   "metadata": {},
   "outputs": [
    {
     "data": {
      "text/plain": [
       "<Figure size 2880x360 with 0 Axes>"
      ]
     },
     "metadata": {},
     "output_type": "display_data"
    },
    {
     "data": {
      "image/png": "[encoded data removed]",
      "text/plain": [
       "<Figure size 432x288 with 1 Axes>"
      ]
     },
     "metadata": {
      "needs_background": "light"
     },
     "output_type": "display_data"
    }
   ],
   "source": [
    "plt.figure(figsize=(40, 5))\n",
    "train_99prc = train[train.price_value < np.percentile( train.price_value, 99.7 )]\n",
    "train.hist(\"price_value\" ,bins=100);\n",
    "plt.xticks(rotation=90);"
   ]
  },
  {
   "cell_type": "markdown",
   "metadata": {},
   "source": [
    "## Submission\n",
    "Trzeba przygotować plik, który będzie zawierał: `car_id` i `price`."
   ]
  },
  {
   "cell_type": "code",
   "execution_count": 360,
   "metadata": {},
   "outputs": [],
   "source": [
    "global_min = train.price_value.min()\n",
    "y_pred = test_out\n",
    "y_pred[ y_pred < global_min] = global_min\n",
    "\n",
    "test['price_value'] = y_pred\n",
    "\n",
    "#prepare to submit\n",
    "test[ ['car_id', 'price_value'] ].to_csv('../output/car_price_simble_log_xgb_and_factorize_18.csv', index=False)"
   ]
  },
  {
   "cell_type": "code",
   "execution_count": 81,
   "metadata": {},
   "outputs": [],
   "source": [
    "#train.to_hdf('my_train.realestate.h5', 'data') #zapisze w katalogu `/notebooks`"
   ]
  },
  {
   "cell_type": "markdown",
   "metadata": {
    "collapsed": true
   },
   "source": [
    "![](../images/dummy_benchmark.png)"
   ]
  }
 ],
 "metadata": {
  "kernelspec": {
   "display_name": "Python 3",
   "language": "python",
   "name": "python3"
  },
  "language_info": {
   "codemirror_mode": {
    "name": "ipython",
    "version": 3
   },
   "file_extension": ".py",
   "mimetype": "text/x-python",
   "name": "python",
   "nbconvert_exporter": "python",
   "pygments_lexer": "ipython3",
   "version": "3.7.6"
  }
 },
 "nbformat": 4,
 "nbformat_minor": 2
}
